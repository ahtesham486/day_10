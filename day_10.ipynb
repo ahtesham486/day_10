{
 "cells": [
  {
   "cell_type": "markdown",
   "metadata": {},
   "source": [
    " # decorator in python \n",
    "\n"
   ]
  },
  {
   "cell_type": "code",
   "execution_count": 58,
   "metadata": {},
   "outputs": [
    {
     "data": {
      "text/plain": [
       "'\\nAbove code is equal to -\\ndef hi_decorator():\\n print(\"Hello\")\\n\\nhi_decorator = hello_decorator(hi_decorator)\\n'"
      ]
     },
     "execution_count": 58,
     "metadata": {},
     "output_type": "execute_result"
    }
   ],
   "source": [
    "# Syntax for Decorator\n",
    "\n",
    "\n",
    "\"\"\"\n",
    "@hello_decorator\n",
    "def hi_decorator():\n",
    " print(\"Hello\")\n",
    "\"\"\"\n",
    "'''\n",
    "Above code is equal to -\n",
    "def hi_decorator():\n",
    " print(\"Hello\")\n",
    "\n",
    "hi_decorator = hello_decorator(hi_decorator)\n",
    "'''"
   ]
  },
  {
   "cell_type": "code",
   "execution_count": 59,
   "metadata": {},
   "outputs": [],
   "source": [
    "# Import libraries\n",
    "import decorator\n",
    "from decorator import *\n",
    "import functools\n",
    "import math\n"
   ]
  },
  {
   "cell_type": "code",
   "execution_count": 60,
   "metadata": {},
   "outputs": [
    {
     "name": "stdout",
     "output_type": "stream",
     "text": [
      "Help on function decorator in module decorator:\n",
      "\n",
      "decorator(caller, _func=None, kwsyntax=False)\n",
      "    decorator(caller) converts a caller function into a decorator\n",
      "\n"
     ]
    }
   ],
   "source": [
    "help(decorator)\n"
   ]
  },
  {
   "cell_type": "code",
   "execution_count": 61,
   "metadata": {},
   "outputs": [
    {
     "name": "stdout",
     "output_type": "stream",
     "text": [
      "Python is a language.\n",
      "Hell, Python!\n"
     ]
    }
   ],
   "source": [
    "# Define a function\n",
    "\"\"\"\n",
    "In the following function, when the code was executed, it yeilds the outputs for both functions.\n",
    "The function new_text() alluded to the function mytext() and behave as function.\n",
    "\"\"\"\n",
    "def mytext(text):\n",
    " print(text)\n",
    "mytext('Python is a language.')\n",
    "new_text = mytext\n",
    "new_text('Hell, Python!')"
   ]
  },
  {
   "cell_type": "code",
   "execution_count": 62,
   "metadata": {},
   "outputs": [
    {
     "data": {
      "text/plain": [
       "9.8596"
      ]
     },
     "execution_count": 62,
     "metadata": {},
     "output_type": "execute_result"
    }
   ],
   "source": [
    "def multiplication(num):\n",
    "    return num*num\n",
    "\n",
    "mult = multiplication\n",
    "mult(3.14)"
   ]
  },
  {
   "cell_type": "code",
   "execution_count": 63,
   "metadata": {},
   "outputs": [
    {
     "name": "stdout",
     "output_type": "stream",
     "text": [
      "Python is a programming language.\n",
      "Hi, World!\n",
      "Hello, Python!\n"
     ]
    }
   ],
   "source": [
    "# Define a function\n",
    "\"\"\"\n",
    "In the following function, it is nonsignificant how the child functions are announced.\n",
    "The implementation of the child function does influence on the output.\n",
    "These child functions are topically linked with the function mytext(), therefore they can not be called individually.\n",
    "\"\"\"\n",
    "\n",
    "\n",
    "def mytext():\n",
    " print('Python is a programming language.')\n",
    " def new_text():\n",
    "  print('Hello, Python!')\n",
    " def message():\n",
    "  print('Hi, World!')\n",
    "\n",
    "  new_text()\n",
    " message()\n",
    "mytext()\n"
   ]
  },
  {
   "cell_type": "code",
   "execution_count": 64,
   "metadata": {},
   "outputs": [
    {
     "name": "stdout",
     "output_type": "stream",
     "text": [
      "Python is a programming language.\n"
     ]
    }
   ],
   "source": [
    "# define a function \n",
    "def message():\n",
    " def text():\n",
    "  print('Python is a programming language.')\n",
    " return text\n",
    "new_message = message()\n",
    "new_message()\n"
   ]
  },
  {
   "cell_type": "code",
   "execution_count": 65,
   "metadata": {},
   "outputs": [
    {
     "data": {
      "text/plain": [
       "9.8596"
      ]
     },
     "execution_count": 65,
     "metadata": {},
     "output_type": "execute_result"
    }
   ],
   "source": [
    "def function(num):\n",
    " def mult(num):\n",
    "  return num*num\n",
    "\n",
    " output = mult(num)\n",
    " return output\n",
    "mult(3.14)"
   ]
  },
  {
   "cell_type": "code",
   "execution_count": 66,
   "metadata": {},
   "outputs": [
    {
     "name": "stdout",
     "output_type": "stream",
     "text": [
      "Python is the most popular programming language.\n"
     ]
    }
   ],
   "source": [
    "def msg(text):\n",
    " 'Hello, World!'\n",
    " def mail():\n",
    "  'Hi, Python!'\n",
    " print(text)\n",
    "\n",
    " mail()\n",
    "msg('Python is the most popular programming language.')  "
   ]
  },
  {
   "cell_type": "code",
   "execution_count": 67,
   "metadata": {},
   "outputs": [
    {
     "name": "stdout",
     "output_type": "stream",
     "text": [
      "8.53452\n",
      "0.5152866242038217\n"
     ]
    }
   ],
   "source": [
    "# Define a function\n",
    "\"\"\"\n",
    "In this function, the mult() and divide() functions as argument in operator() function are passed.\n",
    "\"\"\"\n",
    "def mult(x):\n",
    " return x * 3.14\n",
    "def divide(x):\n",
    " return x/3.14\n",
    "def operator(function, x):\n",
    " number = function(x)\n",
    " return number\n",
    "print(operator(mult, 2.718))\n",
    "print(operator(divide, 1.618))"
   ]
  },
  {
   "cell_type": "code",
   "execution_count": 68,
   "metadata": {},
   "outputs": [
    {
     "data": {
      "text/plain": [
       "5.859874482048838"
      ]
     },
     "execution_count": 68,
     "metadata": {},
     "output_type": "execute_result"
    }
   ],
   "source": [
    "def addition(num):\n",
    " return num + math.pi\n",
    "def called_function(func):\n",
    " added_number = math.e\n",
    " return func(added_number)\n",
    "called_function(addition)"
   ]
  },
  {
   "cell_type": "code",
   "execution_count": 69,
   "metadata": {},
   "outputs": [
    {
     "name": "stdout",
     "output_type": "stream",
     "text": [
      "2.5217283965692467e+117\n",
      "2.5217283965692467e+117\n"
     ]
    }
   ],
   "source": [
    "def decorator_one(function):\n",
    "     def inner():\n",
    "        num = function()\n",
    "        return num * (num**num)\n",
    "     return inner\n",
    "def decorator_two(function):\n",
    "     def inner():\n",
    "        num = function()\n",
    "        return (num**num)/num\n",
    "     return inner\n",
    "@decorator_one\n",
    "@decorator_two\n",
    "def number():\n",
    " return 4\n",
    "print(number())\n",
    "x = pow(4, 4)/4 # The above decorator returns the following code\n",
    "\n",
    "print(x*(x**x))\n"
   ]
  },
  {
   "cell_type": "code",
   "execution_count": 70,
   "metadata": {},
   "outputs": [
    {
     "name": "stdout",
     "output_type": "stream",
     "text": [
      "Python is a programming language.\n"
     ]
    }
   ],
   "source": [
    "def msg_func():\n",
    " def text():\n",
    "  return \"Python is a programming language.\"\n",
    " return text\n",
    "msg = msg_func()\n",
    "print(msg())"
   ]
  },
  {
   "cell_type": "code",
   "execution_count": 71,
   "metadata": {},
   "outputs": [
    {
     "ename": "TypeError",
     "evalue": "'NoneType' object is not callable",
     "output_type": "error",
     "traceback": [
      "\u001b[1;31m---------------------------------------------------------------------------\u001b[0m",
      "\u001b[1;31mTypeError\u001b[0m                                 Traceback (most recent call last)",
      "\u001b[1;32mc:\\Users\\MS\\Desktop\\python basic\\day_10.ipynb Cell 15\u001b[0m line \u001b[0;36m1\n\u001b[0;32m     <a href='vscode-notebook-cell:/c%3A/Users/MS/Desktop/python%20basic/day_10.ipynb#X16sZmlsZQ%3D%3D?line=11'>12</a>\u001b[0m   \u001b[39mreturn\u001b[39;00m inner\n\u001b[0;32m     <a href='vscode-notebook-cell:/c%3A/Users/MS/Desktop/python%20basic/day_10.ipynb#X16sZmlsZQ%3D%3D?line=12'>13</a>\u001b[0m result \u001b[39m=\u001b[39m outer_addition(addition)\n\u001b[1;32m---> <a href='vscode-notebook-cell:/c%3A/Users/MS/Desktop/python%20basic/day_10.ipynb#X16sZmlsZQ%3D%3D?line=13'>14</a>\u001b[0m result(math\u001b[39m.\u001b[39;49mpi, math\u001b[39m.\u001b[39;49me) \n",
      "\u001b[1;31mTypeError\u001b[0m: 'NoneType' object is not callable"
     ]
    }
   ],
   "source": [
    "# Define a decorating function\n",
    "\"\"\"\n",
    "In the following example, the function outer_addition that is some voluminous is decorated.\n",
    "\"\"\"\n",
    "def addition(a, b):\n",
    " print(a+b)\n",
    "def outer_addition(func):\n",
    " def inner(a, b):\n",
    "  if a < b:\n",
    "   a, b = b, a\n",
    "   return func(a, b)\n",
    "  return inner\n",
    "result = outer_addition(addition)\n",
    "result(math.pi, math.e) "
   ]
  },
  {
   "cell_type": "code",
   "execution_count": null,
   "metadata": {},
   "outputs": [],
   "source": [
    "\"\"\"\n",
    "Rather than above function, Python ensures to employ decorator in easy way with the symbol @ called 'pie' syntax, as\n",
    "\"\"\"\n",
    "import math\n",
    "from math import*\n",
    "\n",
    "def outer_addition(function):\n",
    " def inner(a, b):\n",
    "  if a < b:\n",
    "   a, b = b, a\n",
    "   return function(a, b)\n",
    " return inner\n",
    "@outer_addition # Syntax of decorator\n",
    "def addition(a, b):\n",
    " print(a+b)\n",
    "result = outer_addition(addition)\n",
    "result(math.pi, math.e) "
   ]
  },
  {
   "cell_type": "code",
   "execution_count": null,
   "metadata": {},
   "outputs": [
    {
     "name": "stdout",
     "output_type": "stream",
     "text": [
      "PYTHON IS THE MOST POPULAR PROGRAMMING LANGUAGE.\n",
      "PYTHON IS THE MOST POPULAR PROGRAMMING LANGUAGE.\n"
     ]
    }
   ],
   "source": [
    "def decorator_text_uppercase(func):\n",
    " def wrapper():\n",
    "    function = func()\n",
    "    text_uppercase = function.upper()\n",
    "    return text_uppercase\n",
    " return wrapper\n",
    "# Using a function\n",
    "def text():\n",
    " return 'Python is the most popular programming language.'\n",
    "decorated_result = decorator_text_uppercase(text)\n",
    "print(decorated_result())\n",
    "# Using a decorator\n",
    "@decorator_text_uppercase\n",
    "def text():\n",
    " return 'Python is the most popular programming language.'\n",
    "print(text())"
   ]
  },
  {
   "cell_type": "code",
   "execution_count": null,
   "metadata": {},
   "outputs": [
    {
     "name": "stdout",
     "output_type": "stream",
     "text": [
      "Python is a programming language.\n",
      "Python is a programming language.\n"
     ]
    }
   ],
   "source": [
    "# Reprocessing decorator\n",
    "# The decorator can be reused by recalling that decorator function.\n",
    "\n",
    "def do_twice(function):\n",
    " def wrapper_do_twice():\n",
    "  function()\n",
    " function()\n",
    " return wrapper_do_twice\n",
    "@do_twice\n",
    "def text():\n",
    " print('Python is a programming language.')\n",
    "text() "
   ]
  }
 ],
 "metadata": {
  "kernelspec": {
   "display_name": "Python 3",
   "language": "python",
   "name": "python3"
  },
  "language_info": {
   "codemirror_mode": {
    "name": "ipython",
    "version": 3
   },
   "file_extension": ".py",
   "mimetype": "text/x-python",
   "name": "python",
   "nbconvert_exporter": "python",
   "pygments_lexer": "ipython3",
   "version": "3.11.6"
  },
  "orig_nbformat": 4
 },
 "nbformat": 4,
 "nbformat_minor": 2
}
